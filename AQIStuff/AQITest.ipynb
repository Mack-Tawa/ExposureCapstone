{
 "cells": [
  {
   "cell_type": "code",
   "execution_count": 209,
   "metadata": {
    "collapsed": true,
    "ExecuteTime": {
     "start_time": "2023-11-27T12:00:53.318225Z",
     "end_time": "2023-11-27T12:00:53.337534Z"
    }
   },
   "outputs": [],
   "source": [
    "import pandas as pd\n"
   ]
  },
  {
   "cell_type": "code",
   "execution_count": 210,
   "outputs": [
    {
     "name": "stdout",
     "output_type": "stream",
     "text": [
      "(2020, 1)\n"
     ]
    }
   ],
   "source": [
    "lats = pd.read_csv(\"lats.csv\")\n",
    "lats.columns.values[0] = \"Latitude\"\n",
    "print(lats.shape)"
   ],
   "metadata": {
    "collapsed": false,
    "ExecuteTime": {
     "start_time": "2023-11-27T12:00:53.324571Z",
     "end_time": "2023-11-27T12:00:53.338599Z"
    }
   }
  },
  {
   "cell_type": "code",
   "execution_count": 211,
   "outputs": [],
   "source": [
    "\n",
    "# with open(\"lats.csv\") as f:\n",
    "#     reader = csv.reader(f)\n",
    "#     for row in reader:\n",
    "#         print(\" \".join(row))"
   ],
   "metadata": {
    "collapsed": false,
    "ExecuteTime": {
     "start_time": "2023-11-27T12:00:53.329456Z",
     "end_time": "2023-11-27T12:00:53.354134Z"
    }
   }
  },
  {
   "cell_type": "code",
   "execution_count": 212,
   "outputs": [
    {
     "name": "stdout",
     "output_type": "stream",
     "text": [
      "       Longitude\n",
      "0    -112.149609\n",
      "1    -112.149217\n",
      "2    -112.148826\n",
      "3    -112.148435\n",
      "4    -112.148043\n",
      "...          ...\n",
      "1144 -111.701957\n",
      "1145 -111.701565\n",
      "1146 -111.701174\n",
      "1147 -111.700783\n",
      "1148 -111.700391\n",
      "\n",
      "[1149 rows x 1 columns]\n"
     ]
    }
   ],
   "source": [
    "lons = pd.read_csv(\"lons.csv\")\n",
    "lons.columns.values[0] = \"Longitude\"\n",
    "print(lons)"
   ],
   "metadata": {
    "collapsed": false,
    "ExecuteTime": {
     "start_time": "2023-11-27T12:00:53.332698Z",
     "end_time": "2023-11-27T12:00:53.354298Z"
    }
   }
  },
  {
   "cell_type": "code",
   "execution_count": 213,
   "outputs": [],
   "source": [
    "lons.loc[len(lons.index)] = -1.116999913043478320e+02"
   ],
   "metadata": {
    "collapsed": false,
    "ExecuteTime": {
     "start_time": "2023-11-27T12:00:53.340087Z",
     "end_time": "2023-11-27T12:00:53.354816Z"
    }
   }
  },
  {
   "cell_type": "code",
   "execution_count": 214,
   "outputs": [
    {
     "name": "stdout",
     "output_type": "stream",
     "text": [
      "(1150, 1)\n"
     ]
    }
   ],
   "source": [
    "print(lons.shape)"
   ],
   "metadata": {
    "collapsed": false,
    "ExecuteTime": {
     "start_time": "2023-11-27T12:00:53.342764Z",
     "end_time": "2023-11-27T12:00:53.354905Z"
    }
   }
  },
  {
   "cell_type": "code",
   "execution_count": 215,
   "outputs": [],
   "source": [
    "o3 = pd.read_csv(\"o3.csv\")\n",
    "# o3.iloc\n",
    "# display(o3)"
   ],
   "metadata": {
    "collapsed": false,
    "ExecuteTime": {
     "start_time": "2023-11-27T12:00:53.344997Z",
     "end_time": "2023-11-27T12:00:53.576985Z"
    }
   }
  },
  {
   "cell_type": "code",
   "execution_count": 216,
   "outputs": [],
   "source": [
    "import matplotlib.pyplot as plt\n",
    "import scipy.interpolate as interp\n",
    "import numpy as np"
   ],
   "metadata": {
    "collapsed": false,
    "ExecuteTime": {
     "start_time": "2023-11-27T12:00:53.577568Z",
     "end_time": "2023-11-27T12:00:53.579018Z"
    }
   }
  },
  {
   "cell_type": "code",
   "execution_count": 228,
   "outputs": [
    {
     "name": "stdout",
     "output_type": "stream",
     "text": [
      "(2020, 1150)\n",
      "(2020, 1150)\n",
      "(2020, 1150)\n"
     ]
    }
   ],
   "source": [
    "# plt.contourf(lats, lons, o3, cmap = 'jet') # plt.plot(x_, lons, marker='o', color='k', linestyle='none')\n",
    "# plt.show()\n",
    "x_1, y_1 = np.meshgrid(lons, lats)\n",
    "# print(x_1)\n",
    "print(x_1.shape)\n",
    "print(y_1.shape)\n",
    "print(o3.shape)"
   ],
   "metadata": {
    "collapsed": false,
    "ExecuteTime": {
     "start_time": "2023-11-27T12:02:12.902159Z",
     "end_time": "2023-11-27T12:02:12.912798Z"
    }
   }
  },
  {
   "cell_type": "code",
   "execution_count": 217,
   "outputs": [],
   "source": [],
   "metadata": {
    "collapsed": false,
    "ExecuteTime": {
     "start_time": "2023-11-27T12:00:53.596444Z",
     "end_time": "2023-11-27T12:00:53.599402Z"
    }
   }
  },
  {
   "cell_type": "code",
   "execution_count": 218,
   "outputs": [
    {
     "data": {
      "text/plain": "<matplotlib.contour.QuadContourSet at 0x125193ca0>"
     },
     "execution_count": 218,
     "metadata": {},
     "output_type": "execute_result"
    },
    {
     "data": {
      "text/plain": "<Figure size 640x480 with 1 Axes>",
      "image/png": "[encoded data removed]"
     },
     "metadata": {},
     "output_type": "display_data"
    }
   ],
   "source": [
    "plt.contourf(y_1, x_1, o3, cmap = 'jet')\n",
    "# plt.plot(x_1, y_1, marker='o', color='k', linestyle='none')\n"
   ],
   "metadata": {
    "collapsed": false,
    "ExecuteTime": {
     "start_time": "2023-11-27T12:00:53.614368Z",
     "end_time": "2023-11-27T12:00:53.878282Z"
    }
   }
  },
  {
   "cell_type": "markdown",
   "source": [
    "### Combining all three into one df"
   ],
   "metadata": {
    "collapsed": false
   }
  },
  {
   "cell_type": "markdown",
   "source": [],
   "metadata": {
    "collapsed": false
   }
  },
  {
   "cell_type": "code",
   "execution_count": 219,
   "outputs": [
    {
     "data": {
      "text/plain": "      1.857888603210449219e+01  1.857888603210449219e+01.1  \\\n0                    18.578886                   18.578886   \n1                    18.578886                   18.578886   \n2                    18.578886                   18.578886   \n3                    18.578886                   18.578886   \n4                    18.578886                   18.578886   \n...                        ...                         ...   \n2015                 18.788506                   18.788506   \n2016                 18.788506                   18.788506   \n2017                 18.788506                   18.788506   \n2018                 18.788506                   18.788506   \n2019                 18.788506                   18.788506   \n\n      1.857888603210449219e+01.2  1.857888603210449219e+01.3  \\\n0                      18.578886                   18.578886   \n1                      18.578886                   18.578886   \n2                      18.578886                   18.578886   \n3                      18.578886                   18.578886   \n4                      18.578886                   18.578886   \n...                          ...                         ...   \n2015                   18.788506                   18.788506   \n2016                   18.788506                   18.788506   \n2017                   18.788506                   18.788506   \n2018                   18.788506                   18.788506   \n2019                   18.788506                   18.788506   \n\n      1.857888603210449219e+01.4  1.857888603210449219e+01.5  \\\n0                      18.578886                   18.578886   \n1                      18.578886                   18.578886   \n2                      18.578886                   18.578886   \n3                      18.578886                   18.578886   \n4                      18.578886                   18.578886   \n...                          ...                         ...   \n2015                   18.788506                   18.788506   \n2016                   18.788506                   18.788506   \n2017                   18.788506                   18.788506   \n2018                   18.788506                   18.788506   \n2019                   18.788506                   18.788506   \n\n      1.857888603210449219e+01.6  1.857888603210449219e+01.7  \\\n0                      18.578886                   18.578886   \n1                      18.578886                   18.578886   \n2                      18.578886                   18.578886   \n3                      18.578886                   18.578886   \n4                      18.578886                   18.578886   \n...                          ...                         ...   \n2015                   18.788506                   18.788506   \n2016                   18.788506                   18.788506   \n2017                   18.788506                   18.788506   \n2018                   18.788506                   18.788506   \n2019                   18.788506                   18.788506   \n\n      1.857888603210449219e+01.8  1.857888603210449219e+01.9  ...  \\\n0                      18.578886                   18.578886  ...   \n1                      18.578886                   18.578886  ...   \n2                      18.578886                   18.578886  ...   \n3                      18.578886                   18.578886  ...   \n4                      18.578886                   18.578886  ...   \n...                          ...                         ...  ...   \n2015                   18.788506                   18.788506  ...   \n2016                   18.788506                   18.788506  ...   \n2017                   18.788506                   18.788506  ...   \n2018                   18.788506                   18.788506  ...   \n2019                   18.788506                   18.788506  ...   \n\n      1.857888603210449219e+01.906  1.857888603210449219e+01.907  \\\n0                        18.578886                     18.578886   \n1                        18.578886                     18.578886   \n2                        18.578886                     18.578886   \n3                        18.578886                     18.578886   \n4                        18.578886                     18.578886   \n...                            ...                           ...   \n2015                     21.094326                     21.094326   \n2016                     21.094326                     21.094326   \n2017                     21.094326                     21.094326   \n2018                     21.094326                     21.094326   \n2019                     21.094326                     21.094326   \n\n      1.857888603210449219e+01.908  1.857888603210449219e+01.909  \\\n0                        18.578886                     18.578886   \n1                        18.578886                     18.578886   \n2                        18.578886                     18.578886   \n3                        18.578886                     18.578886   \n4                        18.578886                     18.578886   \n...                            ...                           ...   \n2015                     21.094326                     21.094326   \n2016                     21.094326                     21.094326   \n2017                     21.094326                     21.094326   \n2018                     21.094326                     21.303947   \n2019                     21.094326                     21.094326   \n\n      1.857888603210449219e+01.910  1.857888603210449219e+01.911  \\\n0                        18.578886                     18.578886   \n1                        18.578886                     18.578886   \n2                        18.578886                     18.578886   \n3                        18.578886                     18.578886   \n4                        18.578886                     18.578886   \n...                            ...                           ...   \n2015                     21.094326                     21.094326   \n2016                     21.094326                     21.094326   \n2017                     21.094326                     21.094326   \n2018                     21.094326                     21.094326   \n2019                     21.094326                     21.094326   \n\n      1.857888603210449219e+01.912  1.857888603210449219e+01.913  \\\n0                        18.578886                     18.578886   \n1                        18.578886                     18.578886   \n2                        18.578886                     18.578886   \n3                        18.578886                     18.578886   \n4                        18.578886                     18.578886   \n...                            ...                           ...   \n2015                     21.094326                     21.094326   \n2016                     21.094326                     21.094326   \n2017                     21.094326                     21.094326   \n2018                     21.094326                     21.094326   \n2019                     21.094326                     21.094326   \n\n      1.857888603210449219e+01.914  1.857888603210449219e+01.915  \n0                        18.578886                     18.578886  \n1                        18.578886                     18.578886  \n2                        18.578886                     18.578886  \n3                        18.578886                     18.578886  \n4                        18.578886                     18.578886  \n...                            ...                           ...  \n2015                     21.094326                     21.094326  \n2016                     21.094326                     21.094326  \n2017                     21.094326                     21.094326  \n2018                     21.094326                     21.094326  \n2019                     21.303947                     21.094326  \n\n[2020 rows x 1150 columns]",
      "text/html": "<div>\n<style scoped>\n    .dataframe tbody tr th:only-of-type {\n        vertical-align: middle;\n    }\n\n    .dataframe tbody tr th {\n        vertical-align: top;\n    }\n\n    .dataframe thead th {\n        text-align: right;\n    }\n</style>\n<table border=\"1\" class=\"dataframe\">\n  <thead>\n    <tr style=\"text-align: right;\">\n      <th></th>\n      <th>1.857888603210449219e+01</th>\n      <th>1.857888603210449219e+01.1</th>\n      <th>1.857888603210449219e+01.2</th>\n      <th>1.857888603210449219e+01.3</th>\n      <th>1.857888603210449219e+01.4</th>\n      <th>1.857888603210449219e+01.5</th>\n      <th>1.857888603210449219e+01.6</th>\n      <th>1.857888603210449219e+01.7</th>\n      <th>1.857888603210449219e+01.8</th>\n      <th>1.857888603210449219e+01.9</th>\n      <th>...</th>\n      <th>1.857888603210449219e+01.906</th>\n      <th>1.857888603210449219e+01.907</th>\n      <th>1.857888603210449219e+01.908</th>\n      <th>1.857888603210449219e+01.909</th>\n      <th>1.857888603210449219e+01.910</th>\n      <th>1.857888603210449219e+01.911</th>\n      <th>1.857888603210449219e+01.912</th>\n      <th>1.857888603210449219e+01.913</th>\n      <th>1.857888603210449219e+01.914</th>\n      <th>1.857888603210449219e+01.915</th>\n    </tr>\n  </thead>\n  <tbody>\n    <tr>\n      <th>0</th>\n      <td>18.578886</td>\n      <td>18.578886</td>\n      <td>18.578886</td>\n      <td>18.578886</td>\n      <td>18.578886</td>\n      <td>18.578886</td>\n      <td>18.578886</td>\n      <td>18.578886</td>\n      <td>18.578886</td>\n      <td>18.578886</td>\n      <td>...</td>\n      <td>18.578886</td>\n      <td>18.578886</td>\n      <td>18.578886</td>\n      <td>18.578886</td>\n      <td>18.578886</td>\n      <td>18.578886</td>\n      <td>18.578886</td>\n      <td>18.578886</td>\n      <td>18.578886</td>\n      <td>18.578886</td>\n    </tr>\n    <tr>\n      <th>1</th>\n      <td>18.578886</td>\n      <td>18.578886</td>\n      <td>18.578886</td>\n      <td>18.578886</td>\n      <td>18.578886</td>\n      <td>18.578886</td>\n      <td>18.578886</td>\n      <td>18.578886</td>\n      <td>18.578886</td>\n      <td>18.578886</td>\n      <td>...</td>\n      <td>18.578886</td>\n      <td>18.578886</td>\n      <td>18.578886</td>\n      <td>18.578886</td>\n      <td>18.578886</td>\n      <td>18.578886</td>\n      <td>18.578886</td>\n      <td>18.578886</td>\n      <td>18.578886</td>\n      <td>18.578886</td>\n    </tr>\n    <tr>\n      <th>2</th>\n      <td>18.578886</td>\n      <td>18.578886</td>\n      <td>18.578886</td>\n      <td>18.578886</td>\n      <td>18.578886</td>\n      <td>18.578886</td>\n      <td>18.578886</td>\n      <td>18.578886</td>\n      <td>18.578886</td>\n      <td>18.578886</td>\n      <td>...</td>\n      <td>18.578886</td>\n      <td>18.578886</td>\n      <td>18.578886</td>\n      <td>18.578886</td>\n      <td>18.578886</td>\n      <td>18.578886</td>\n      <td>18.578886</td>\n      <td>18.578886</td>\n      <td>18.578886</td>\n      <td>18.578886</td>\n    </tr>\n    <tr>\n      <th>3</th>\n      <td>18.578886</td>\n      <td>18.578886</td>\n      <td>18.578886</td>\n      <td>18.578886</td>\n      <td>18.578886</td>\n      <td>18.578886</td>\n      <td>18.578886</td>\n      <td>18.578886</td>\n      <td>18.578886</td>\n      <td>18.578886</td>\n      <td>...</td>\n      <td>18.578886</td>\n      <td>18.578886</td>\n      <td>18.578886</td>\n      <td>18.578886</td>\n      <td>18.578886</td>\n      <td>18.578886</td>\n      <td>18.578886</td>\n      <td>18.578886</td>\n      <td>18.578886</td>\n      <td>18.578886</td>\n    </tr>\n    <tr>\n      <th>4</th>\n      <td>18.578886</td>\n      <td>18.578886</td>\n      <td>18.578886</td>\n      <td>18.578886</td>\n      <td>18.578886</td>\n      <td>18.578886</td>\n      <td>18.578886</td>\n      <td>18.578886</td>\n      <td>18.578886</td>\n      <td>18.578886</td>\n      <td>...</td>\n      <td>18.578886</td>\n      <td>18.578886</td>\n      <td>18.578886</td>\n      <td>18.578886</td>\n      <td>18.578886</td>\n      <td>18.578886</td>\n      <td>18.578886</td>\n      <td>18.578886</td>\n      <td>18.578886</td>\n      <td>18.578886</td>\n    </tr>\n    <tr>\n      <th>...</th>\n      <td>...</td>\n      <td>...</td>\n      <td>...</td>\n      <td>...</td>\n      <td>...</td>\n      <td>...</td>\n      <td>...</td>\n      <td>...</td>\n      <td>...</td>\n      <td>...</td>\n      <td>...</td>\n      <td>...</td>\n      <td>...</td>\n      <td>...</td>\n      <td>...</td>\n      <td>...</td>\n      <td>...</td>\n      <td>...</td>\n      <td>...</td>\n      <td>...</td>\n      <td>...</td>\n    </tr>\n    <tr>\n      <th>2015</th>\n      <td>18.788506</td>\n      <td>18.788506</td>\n      <td>18.788506</td>\n      <td>18.788506</td>\n      <td>18.788506</td>\n      <td>18.788506</td>\n      <td>18.788506</td>\n      <td>18.788506</td>\n      <td>18.788506</td>\n      <td>18.788506</td>\n      <td>...</td>\n      <td>21.094326</td>\n      <td>21.094326</td>\n      <td>21.094326</td>\n      <td>21.094326</td>\n      <td>21.094326</td>\n      <td>21.094326</td>\n      <td>21.094326</td>\n      <td>21.094326</td>\n      <td>21.094326</td>\n      <td>21.094326</td>\n    </tr>\n    <tr>\n      <th>2016</th>\n      <td>18.788506</td>\n      <td>18.788506</td>\n      <td>18.788506</td>\n      <td>18.788506</td>\n      <td>18.788506</td>\n      <td>18.788506</td>\n      <td>18.788506</td>\n      <td>18.788506</td>\n      <td>18.788506</td>\n      <td>18.788506</td>\n      <td>...</td>\n      <td>21.094326</td>\n      <td>21.094326</td>\n      <td>21.094326</td>\n      <td>21.094326</td>\n      <td>21.094326</td>\n      <td>21.094326</td>\n      <td>21.094326</td>\n      <td>21.094326</td>\n      <td>21.094326</td>\n      <td>21.094326</td>\n    </tr>\n    <tr>\n      <th>2017</th>\n      <td>18.788506</td>\n      <td>18.788506</td>\n      <td>18.788506</td>\n      <td>18.788506</td>\n      <td>18.788506</td>\n      <td>18.788506</td>\n      <td>18.788506</td>\n      <td>18.788506</td>\n      <td>18.788506</td>\n      <td>18.788506</td>\n      <td>...</td>\n      <td>21.094326</td>\n      <td>21.094326</td>\n      <td>21.094326</td>\n      <td>21.094326</td>\n      <td>21.094326</td>\n      <td>21.094326</td>\n      <td>21.094326</td>\n      <td>21.094326</td>\n      <td>21.094326</td>\n      <td>21.094326</td>\n    </tr>\n    <tr>\n      <th>2018</th>\n      <td>18.788506</td>\n      <td>18.788506</td>\n      <td>18.788506</td>\n      <td>18.788506</td>\n      <td>18.788506</td>\n      <td>18.788506</td>\n      <td>18.788506</td>\n      <td>18.788506</td>\n      <td>18.788506</td>\n      <td>18.788506</td>\n      <td>...</td>\n      <td>21.094326</td>\n      <td>21.094326</td>\n      <td>21.094326</td>\n      <td>21.303947</td>\n      <td>21.094326</td>\n      <td>21.094326</td>\n      <td>21.094326</td>\n      <td>21.094326</td>\n      <td>21.094326</td>\n      <td>21.094326</td>\n    </tr>\n    <tr>\n      <th>2019</th>\n      <td>18.788506</td>\n      <td>18.788506</td>\n      <td>18.788506</td>\n      <td>18.788506</td>\n      <td>18.788506</td>\n      <td>18.788506</td>\n      <td>18.788506</td>\n      <td>18.788506</td>\n      <td>18.788506</td>\n      <td>18.788506</td>\n      <td>...</td>\n      <td>21.094326</td>\n      <td>21.094326</td>\n      <td>21.094326</td>\n      <td>21.094326</td>\n      <td>21.094326</td>\n      <td>21.094326</td>\n      <td>21.094326</td>\n      <td>21.094326</td>\n      <td>21.303947</td>\n      <td>21.094326</td>\n    </tr>\n  </tbody>\n</table>\n<p>2020 rows × 1150 columns</p>\n</div>"
     },
     "metadata": {},
     "output_type": "display_data"
    }
   ],
   "source": [
    "display(o3)"
   ],
   "metadata": {
    "collapsed": false,
    "ExecuteTime": {
     "start_time": "2023-11-27T12:00:53.885929Z",
     "end_time": "2023-11-27T12:00:53.888222Z"
    }
   }
  },
  {
   "cell_type": "code",
   "execution_count": 220,
   "outputs": [],
   "source": [
    "df = o3.to_numpy()"
   ],
   "metadata": {
    "collapsed": false,
    "ExecuteTime": {
     "start_time": "2023-11-27T12:00:53.890348Z",
     "end_time": "2023-11-27T12:00:53.891828Z"
    }
   }
  },
  {
   "cell_type": "code",
   "execution_count": 221,
   "outputs": [],
   "source": [
    "import csv\n",
    "\n",
    "def findLat(myLat):\n",
    "\n",
    "    tempLat = 0\n",
    "\n",
    "    # with open(\"lats.csv\") as f:\n",
    "    #     reader = csv.reader(f)\n",
    "    #     for row in reader:\n",
    "    #         print(\" \".join(row))\n",
    "    #         if (myLat > row):\n",
    "    #             print(\"input is larger than\" + row)\n",
    "    count = 0\n",
    "    for index, row in lats.iterrows():\n",
    "        tempLat = row['Latitude']\n",
    "        if (myLat < tempLat):\n",
    "            # print(\"myLat is smaller than...\" + str(tempLat))\n",
    "            count += 1\n",
    "        else:\n",
    "            # print(\"We've passed over the threshold at\" + str(tempLat) + \" at index...\" + str(count))\n",
    "            return count\n",
    "        # print(row['Latitude'])\n",
    "\n"
   ],
   "metadata": {
    "collapsed": false,
    "ExecuteTime": {
     "start_time": "2023-11-27T12:00:53.895016Z",
     "end_time": "2023-11-27T12:00:53.897999Z"
    }
   }
  },
  {
   "cell_type": "code",
   "execution_count": 222,
   "outputs": [],
   "source": [
    "def findLon(myLon):\n",
    "    #[0] = -112\n",
    "    #[1250] = -111\n",
    "    tempLon = -113\n",
    "    count = 0\n",
    "    for index, row in lons.iterrows():\n",
    "        tempLon = row['Longitude']\n",
    "        if (tempLon < myLon):\n",
    "            count += 1\n",
    "            # print(\"myLon is greater than\" + str(tempLon))\n",
    "\n",
    "        else:\n",
    "            # print(\"We've passed over the threshold at\" + str(tempLon) + \" at index...\" + str(count))\n",
    "            return count"
   ],
   "metadata": {
    "collapsed": false,
    "ExecuteTime": {
     "start_time": "2023-11-27T12:00:53.897839Z",
     "end_time": "2023-11-27T12:00:53.929954Z"
    }
   }
  },
  {
   "cell_type": "code",
   "execution_count": 223,
   "outputs": [
    {
     "data": {
      "text/plain": "455"
     },
     "execution_count": 223,
     "metadata": {},
     "output_type": "execute_result"
    }
   ],
   "source": [
    "findLon(-111.9719233)"
   ],
   "metadata": {
    "collapsed": false,
    "ExecuteTime": {
     "start_time": "2023-11-27T12:00:53.908226Z",
     "end_time": "2023-11-27T12:00:53.930098Z"
    }
   }
  },
  {
   "cell_type": "code",
   "execution_count": 224,
   "outputs": [
    {
     "data": {
      "text/plain": "795"
     },
     "execution_count": 224,
     "metadata": {},
     "output_type": "execute_result"
    }
   ],
   "source": [
    "findLat(40.7139467)"
   ],
   "metadata": {
    "collapsed": false,
    "ExecuteTime": {
     "start_time": "2023-11-27T12:00:53.911580Z",
     "end_time": "2023-11-27T12:00:53.930325Z"
    }
   }
  },
  {
   "cell_type": "code",
   "execution_count": 235,
   "outputs": [],
   "source": [
    "def findAQIAt(lat, lon):\n",
    "    ### o3 is shaped as [lat][lon]\n",
    "    #########[2020][1150]#########\n",
    "    latIndex = findLat(lat)\n",
    "    print(\"latIndex is...\" + str(latIndex))\n",
    "    lonIndex = findLon(lon)\n",
    "    print(\"lonIndex is...\" + str(lonIndex))\n",
    "\n",
    "    print(o3.iloc[latIndex][lonIndex])\n",
    "\n"
   ],
   "metadata": {
    "collapsed": false,
    "ExecuteTime": {
     "start_time": "2023-11-27T12:04:33.132938Z",
     "end_time": "2023-11-27T12:04:33.134643Z"
    }
   }
  },
  {
   "cell_type": "markdown",
   "source": [],
   "metadata": {
    "collapsed": false
   }
  },
  {
   "cell_type": "code",
   "execution_count": 238,
   "outputs": [
    {
     "name": "stdout",
     "output_type": "stream",
     "text": [
      "latIndex is...0\n",
      "lonIndex is...0\n",
      "18.57888603210449\n"
     ]
    },
    {
     "name": "stderr",
     "output_type": "stream",
     "text": [
      "/var/folders/q5/c59x3w8x7fb7764t3_lb7g080000gn/T/ipykernel_31977/3111734743.py:9: FutureWarning: Series.__getitem__ treating keys as positions is deprecated. In a future version, integer keys will always be treated as labels (consistent with DataFrame behavior). To access a value by position, use `ser.iloc[pos]`\n",
      "  print(o3.iloc[latIndex][lonIndex])\n"
     ]
    }
   ],
   "source": [
    "findAQIAt(40.95000000\n",
    ", -112.15000000000)"
   ],
   "metadata": {
    "collapsed": false,
    "ExecuteTime": {
     "start_time": "2023-11-27T12:06:55.653558Z",
     "end_time": "2023-11-27T12:06:55.655153Z"
    }
   }
  }
 ],
 "metadata": {
  "kernelspec": {
   "display_name": "Python 3",
   "language": "python",
   "name": "python3"
  },
  "language_info": {
   "codemirror_mode": {
    "name": "ipython",
    "version": 2
   },
   "file_extension": ".py",
   "mimetype": "text/x-python",
   "name": "python",
   "nbconvert_exporter": "python",
   "pygments_lexer": "ipython2",
   "version": "2.7.6"
  }
 },
 "nbformat": 4,
 "nbformat_minor": 0
}
